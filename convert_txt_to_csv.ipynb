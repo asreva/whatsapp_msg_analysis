{
 "cells": [
  {
   "cell_type": "markdown",
   "metadata": {},
   "source": [
    "# Convert the .txt files from Whats' App to the .csv format\n",
    "\n",
    "The code that analyses the conversation uses the .csv format. Thus, the user has to first convert his/her .txt sent by Whats' App to .csv. This code aims to implement that. However, Whats' App uses various format depending on the language of your app and its version, the code will ask you to inform your format. The current code is only adapted for two formats, but feel free to adapt it for your format, it should not be that complex.\n",
    "\n",
    "The .csv has to be separated by \";\" and have the following columns :\n",
    "- UserName : The name of the sender of the message (str)\n",
    "- MessageBody : The content of the message (str)\n",
    "- Date2 : The date at which the message has been sent, datetime with the format YYYY-MM-DD\n",
    "- Time : The hour at which the message has been sent, timedelta\n",
    "- Date1 : Each first message of the day has the value of the date, other NaN, str, all can be NaN\n",
    "- UserPhone : The phone number of the user, str, can be NaN\n",
    "- MediaType : The type of media that has been sent with the message, str, can be NaN\n",
    "- MediaLink : The link to this media, str, can be NaN\n",
    "- QuotedMessage : The content of the quoted message (if any), str, can be NaN\n",
    "- QuotedMessageDate : The date at which the quoted message has been sent, str, can be NaN\n",
    "- QuotedMessageTime : The time at which the quoted message has been sent, str, can be NaN"
   ]
  },
  {
   "cell_type": "markdown",
   "metadata": {},
   "source": [
    "## 0. General settings"
   ]
  },
  {
   "cell_type": "code",
   "execution_count": 1,
   "metadata": {},
   "outputs": [],
   "source": [
    "# Parameters\n",
    "FOLDER_NAME = \"Example\" # name of the folder containing the conversation\n",
    "FILE_NAME = \"chat_en.txt\" # name of the file contaning the discussion"
   ]
  },
  {
   "cell_type": "code",
   "execution_count": 2,
   "metadata": {},
   "outputs": [
    {
     "name": "stdout",
     "output_type": "stream",
     "text": [
      "Open your .txt file and look at the structure of the messages.\n",
      "\n",
      "Does your message looks like: '29/05/2017, 12:00 - Ivan-Daniel Sievering: Oki' (1)\n",
      "or like '29.05.17 à 12:00 - Ivan-Daniel Sievering: Oki' (2)\n",
      "or other (3).\n",
      "\n",
      "Please type the number corresponding to your format: 1\n"
     ]
    }
   ],
   "source": [
    "# Select message pattern\n",
    "pattern = int(input(\"Open your .txt file and look at the structure of the messages.\\n\\n\\\n",
    "Does your message looks like: '29/05/2017, 12:00 - Ivan-Daniel Sievering: Oki' (1)\\n\\\n",
    "or like '29.05.17 à 12:00 - Ivan-Daniel Sievering: Oki' (2)\\n\\\n",
    "or other (3).\\n\\\n",
    "\\nPlease type the number corresponding to your format: \"))\n",
    "\n",
    "if pattern == 1:\n",
    "    # 29/05/2017, 12:00 - Ivan-Daniel Sievering: Oki (Most likely if your WhatsApp is in english)\n",
    "    normal_msg_pattern = \"[0-9][0-9]/[0-9][0-9]/[0-9][0-9][0-9][0-9], [0-9][0-9]:[0-9][0-9] - +\"\n",
    "    date_hour_sep = \", \"\n",
    "    date_format = '%d/%m/%Y'\n",
    "elif pattern == 2:\n",
    "    # 29.05.17 à 12:00 - Ivan-Daniel Sievering: Oki (Most likely if your WhatsApp is in French)\n",
    "    normal_msg_pattern = \"[0-9][0-9].[0-9][0-9].[0-9][0-9] à [0-9][0-9]:[0-9][0-9] - +\"\n",
    "    date_hour_sep = \" à \"\n",
    "    date_format = '%d.%m.%y'\n",
    "else:\n",
    "    print(\"\\nFor now, the code only supports these two formats, feel free to adapt the code for your usage!\")\n",
    "    assert False"
   ]
  },
  {
   "cell_type": "code",
   "execution_count": 3,
   "metadata": {},
   "outputs": [],
   "source": [
    "# Import libraries\n",
    "import os\n",
    "import pandas as pd\n",
    "import re"
   ]
  },
  {
   "cell_type": "markdown",
   "metadata": {},
   "source": [
    "# 1. Adapt the .txt file\n",
    "\n",
    "Message with various lines will make crash the df creation because they appear on various row. Hence the content of a message is fully retranscripted in one row only."
   ]
  },
  {
   "cell_type": "code",
   "execution_count": 4,
   "metadata": {},
   "outputs": [],
   "source": [
    "# Load the file\n",
    "my_file = open(os.path.join(FOLDER_NAME,FILE_NAME), \"r\", encoding=\"utf8\")\n",
    "content_list = my_file.readlines()\n",
    "\n",
    "# Prepare a comparator to find the message that have various lines\n",
    "regex = re.compile(normal_msg_pattern)\n",
    "\n",
    "# Add the lines that are the continuation of the others to the original message \n",
    "# !! not optimal, may be optimised !!\n",
    "last_match_idx = 0\n",
    "for i, line in enumerate(content_list):\n",
    "    if not regex.match(line):\n",
    "        # if not a normal message, add the content to the last normal message\n",
    "        previous_line = content_list[last_match_idx]\n",
    "        if previous_line[-1:] == \"\\n\": # remove the \"\\n\" of the lines to avoid issues when creating the df\n",
    "            previous_line = previous_line[:-1]\n",
    "        content_list[last_match_idx] = previous_line +\". \"+ line # add a \".\" to keep the notion of phrase\n",
    "    else:\n",
    "        last_match_idx = i\n",
    "\n",
    "# Remove the lines that are not the begining or a whole message \n",
    "# !! not optimal, may be optimised !!\n",
    "content_list_cleaned = [s for s in content_list if regex.match(s)]\n",
    "\n",
    "# Save the new file (in order to only do one time the operation)\n",
    "with open(os.path.join(FOLDER_NAME,'chat_cleaned.txt'), 'w', encoding=\"utf8\") as f:\n",
    "    for line in content_list_cleaned:\n",
    "        f.write(\"%s\" % line)"
   ]
  },
  {
   "cell_type": "markdown",
   "metadata": {},
   "source": [
    "## 2. Load the .txt as a df"
   ]
  },
  {
   "cell_type": "code",
   "execution_count": 5,
   "metadata": {
    "scrolled": true
   },
   "outputs": [],
   "source": [
    "df_txt = pd.read_csv(os.path.join(FOLDER_NAME,'chat_cleaned.txt'), sep=\":\", header=None, \n",
    "                     names=[\"Date_part1\",\"Date_part2\",\"MessageBody\"],  \n",
    "                   dtype = {'Date_part1': str, 'Date_part2': str, 'MessageBody': str}) # enforce str for flexible interpretation"
   ]
  },
  {
   "cell_type": "code",
   "execution_count": 6,
   "metadata": {},
   "outputs": [
    {
     "name": "stdout",
     "output_type": "stream",
     "text": [
      "The following lines will be removed:\n",
      "If the lines refer to some securtiy, they are just information from Whats' App and can be removed\n"
     ]
    },
    {
     "data": {
      "text/html": [
       "<div>\n",
       "<style scoped>\n",
       "    .dataframe tbody tr th:only-of-type {\n",
       "        vertical-align: middle;\n",
       "    }\n",
       "\n",
       "    .dataframe tbody tr th {\n",
       "        vertical-align: top;\n",
       "    }\n",
       "\n",
       "    .dataframe thead th {\n",
       "        text-align: right;\n",
       "    }\n",
       "</style>\n",
       "<table border=\"1\" class=\"dataframe\">\n",
       "  <thead>\n",
       "    <tr style=\"text-align: right;\">\n",
       "      <th></th>\n",
       "      <th>Date_part1</th>\n",
       "      <th>Date_part2</th>\n",
       "      <th>MessageBody</th>\n",
       "    </tr>\n",
       "  </thead>\n",
       "  <tbody>\n",
       "  </tbody>\n",
       "</table>\n",
       "</div>"
      ],
      "text/plain": [
       "Empty DataFrame\n",
       "Columns: [Date_part1, Date_part2, MessageBody]\n",
       "Index: []"
      ]
     },
     "execution_count": 6,
     "metadata": {},
     "output_type": "execute_result"
    }
   ],
   "source": [
    "# Look for lines with issue and show them\n",
    "df_txt_not_standard =  df_txt[df_txt[\"MessageBody\"].isnull()]\n",
    "print(\"The following lines will be removed:\")\n",
    "print(\"If the lines refer to some securtiy, they are just information from Whats' App and can be removed\")\n",
    "df_txt_not_standard"
   ]
  },
  {
   "cell_type": "code",
   "execution_count": 7,
   "metadata": {},
   "outputs": [
    {
     "name": "stdout",
     "output_type": "stream",
     "text": [
      "Number of row removed: 0\n"
     ]
    }
   ],
   "source": [
    "# Suppress them\n",
    "df_txt = df_txt.dropna()\n",
    "print(\"Number of row removed: \"+str(len(df_txt_not_standard)))"
   ]
  },
  {
   "cell_type": "code",
   "execution_count": 8,
   "metadata": {},
   "outputs": [
    {
     "data": {
      "text/html": [
       "<div>\n",
       "<style scoped>\n",
       "    .dataframe tbody tr th:only-of-type {\n",
       "        vertical-align: middle;\n",
       "    }\n",
       "\n",
       "    .dataframe tbody tr th {\n",
       "        vertical-align: top;\n",
       "    }\n",
       "\n",
       "    .dataframe thead th {\n",
       "        text-align: right;\n",
       "    }\n",
       "</style>\n",
       "<table border=\"1\" class=\"dataframe\">\n",
       "  <thead>\n",
       "    <tr style=\"text-align: right;\">\n",
       "      <th></th>\n",
       "      <th>Date_part1</th>\n",
       "      <th>Date_part2</th>\n",
       "      <th>MessageBody</th>\n",
       "    </tr>\n",
       "  </thead>\n",
       "  <tbody>\n",
       "    <tr>\n",
       "      <th>10</th>\n",
       "      <td>30/05/2017, 11</td>\n",
       "      <td>52 - User2</td>\n",
       "      <td>I am sad now</td>\n",
       "    </tr>\n",
       "    <tr>\n",
       "      <th>2</th>\n",
       "      <td>29/05/2017, 12</td>\n",
       "      <td>52 - User2</td>\n",
       "      <td>How do you do ?</td>\n",
       "    </tr>\n",
       "    <tr>\n",
       "      <th>12</th>\n",
       "      <td>02/06/2017, 11</td>\n",
       "      <td>53 - User2</td>\n",
       "      <td>I don't need to go there... I already found m...</td>\n",
       "    </tr>\n",
       "    <tr>\n",
       "      <th>13</th>\n",
       "      <td>02/06/2017, 11</td>\n",
       "      <td>55 - User1</td>\n",
       "      <td>Nah, I am too ugly for that. .</td>\n",
       "    </tr>\n",
       "    <tr>\n",
       "      <th>8</th>\n",
       "      <td>30/05/2017, 10</td>\n",
       "      <td>52 - User1</td>\n",
       "      <td>But you are cute</td>\n",
       "    </tr>\n",
       "  </tbody>\n",
       "</table>\n",
       "</div>"
      ],
      "text/plain": [
       "        Date_part1  Date_part2  \\\n",
       "10  30/05/2017, 11  52 - User2   \n",
       "2   29/05/2017, 12  52 - User2   \n",
       "12  02/06/2017, 11  53 - User2   \n",
       "13  02/06/2017, 11  55 - User1   \n",
       "8   30/05/2017, 10  52 - User1   \n",
       "\n",
       "                                          MessageBody  \n",
       "10                                       I am sad now  \n",
       "2                                     How do you do ?  \n",
       "12   I don't need to go there... I already found m...  \n",
       "13                   Nah, I am too ugly for that. .    \n",
       "8                                   But you are cute   "
      ]
     },
     "execution_count": 8,
     "metadata": {},
     "output_type": "execute_result"
    }
   ],
   "source": [
    "df_txt.sample(5)"
   ]
  },
  {
   "cell_type": "markdown",
   "metadata": {},
   "source": [
    "## 3. Adapt the df to our format"
   ]
  },
  {
   "cell_type": "code",
   "execution_count": 9,
   "metadata": {},
   "outputs": [],
   "source": [
    "# Extract date and hour from the different columns\n",
    "separate_date_hour_df = df_txt[\"Date_part1\"].str.split(date_hour_sep, n = 1, expand = True)\n",
    "df_txt[\"Date2\"] = separate_date_hour_df[0]\n",
    "df_txt[\"Hour\"] = separate_date_hour_df[1]\n",
    "separate_user_minute_df = df_txt[\"Date_part2\"].str.split(\" - \", n = 1, expand = True)\n",
    "df_txt[\"UserName\"] = separate_user_minute_df[1]\n",
    "df_txt[\"Minute\"] = separate_user_minute_df[0]\n",
    "df_txt = df_txt.drop(columns=[\"Date_part1\",\"Date_part2\"])"
   ]
  },
  {
   "cell_type": "code",
   "execution_count": 10,
   "metadata": {},
   "outputs": [],
   "source": [
    "# Convert the date to datetime and with the correct separatrs\n",
    "df_txt[\"Date2\"] = pd.to_datetime(df_txt[\"Date2\"], format=date_format).apply(lambda x: x.strftime('%Y-%m-%d'))\n",
    "# Merge the time component togethen\n",
    "df_txt[\"Time\"] = df_txt[\"Hour\"] + \":\" + df_txt[\"Minute\"] + \":00\"\n",
    "# Drop columns that are now useless\n",
    "df_txt = df_txt.drop(columns=[\"Hour\", \"Minute\"])"
   ]
  },
  {
   "cell_type": "code",
   "execution_count": 11,
   "metadata": {},
   "outputs": [],
   "source": [
    "# Add the missing columns to the txt (with NaNs, these columns these columns are not used later on)\n",
    "df_txt[\"Date1\"] = \"NaN\"\n",
    "df_txt[\"UserPhone\"] = \"NaN\"\n",
    "df_txt[\"MediaType\"] = \"NaN\"\n",
    "df_txt[\"MediaLink\"] = \"NaN\"\n",
    "df_txt[\"QuotedMessage\"] = \"NaN\"\n",
    "df_txt[\"QuotedMessageDate\"] = \"NaN\"\n",
    "df_txt[\"QuotedMessageTime\"] = \"NaN\"\n",
    "\n",
    "# Convert the Time column of both to timedelta for further operation\n",
    "df_txt['Time'] = pd.to_timedelta(df_txt['Time'])\n",
    "\n",
    "# Remove spaces in username\n",
    "df_txt[\"UserName\"] = df_txt[\"UserName\"].str.strip()"
   ]
  },
  {
   "cell_type": "code",
   "execution_count": 12,
   "metadata": {},
   "outputs": [
    {
     "data": {
      "text/html": [
       "<div>\n",
       "<style scoped>\n",
       "    .dataframe tbody tr th:only-of-type {\n",
       "        vertical-align: middle;\n",
       "    }\n",
       "\n",
       "    .dataframe tbody tr th {\n",
       "        vertical-align: top;\n",
       "    }\n",
       "\n",
       "    .dataframe thead th {\n",
       "        text-align: right;\n",
       "    }\n",
       "</style>\n",
       "<table border=\"1\" class=\"dataframe\">\n",
       "  <thead>\n",
       "    <tr style=\"text-align: right;\">\n",
       "      <th></th>\n",
       "      <th>MessageBody</th>\n",
       "      <th>Date2</th>\n",
       "      <th>UserName</th>\n",
       "      <th>Time</th>\n",
       "      <th>Date1</th>\n",
       "      <th>UserPhone</th>\n",
       "      <th>MediaType</th>\n",
       "      <th>MediaLink</th>\n",
       "      <th>QuotedMessage</th>\n",
       "      <th>QuotedMessageDate</th>\n",
       "      <th>QuotedMessageTime</th>\n",
       "    </tr>\n",
       "  </thead>\n",
       "  <tbody>\n",
       "    <tr>\n",
       "      <th>13</th>\n",
       "      <td>Nah, I am too ugly for that. .</td>\n",
       "      <td>2017-06-02</td>\n",
       "      <td>User1</td>\n",
       "      <td>0 days 11:55:00</td>\n",
       "      <td>NaN</td>\n",
       "      <td>NaN</td>\n",
       "      <td>NaN</td>\n",
       "      <td>NaN</td>\n",
       "      <td>NaN</td>\n",
       "      <td>NaN</td>\n",
       "      <td>NaN</td>\n",
       "    </tr>\n",
       "    <tr>\n",
       "      <th>10</th>\n",
       "      <td>I am sad now</td>\n",
       "      <td>2017-05-30</td>\n",
       "      <td>User2</td>\n",
       "      <td>0 days 11:52:00</td>\n",
       "      <td>NaN</td>\n",
       "      <td>NaN</td>\n",
       "      <td>NaN</td>\n",
       "      <td>NaN</td>\n",
       "      <td>NaN</td>\n",
       "      <td>NaN</td>\n",
       "      <td>NaN</td>\n",
       "    </tr>\n",
       "    <tr>\n",
       "      <th>4</th>\n",
       "      <td>Hmmm... What?</td>\n",
       "      <td>2017-05-29</td>\n",
       "      <td>User1</td>\n",
       "      <td>0 days 13:22:00</td>\n",
       "      <td>NaN</td>\n",
       "      <td>NaN</td>\n",
       "      <td>NaN</td>\n",
       "      <td>NaN</td>\n",
       "      <td>NaN</td>\n",
       "      <td>NaN</td>\n",
       "      <td>NaN</td>\n",
       "    </tr>\n",
       "    <tr>\n",
       "      <th>9</th>\n",
       "      <td>Ow, I thought that you were single</td>\n",
       "      <td>2017-05-30</td>\n",
       "      <td>User2</td>\n",
       "      <td>0 days 11:52:00</td>\n",
       "      <td>NaN</td>\n",
       "      <td>NaN</td>\n",
       "      <td>NaN</td>\n",
       "      <td>NaN</td>\n",
       "      <td>NaN</td>\n",
       "      <td>NaN</td>\n",
       "      <td>NaN</td>\n",
       "    </tr>\n",
       "    <tr>\n",
       "      <th>3</th>\n",
       "      <td>I want to say something important about us...</td>\n",
       "      <td>2017-05-29</td>\n",
       "      <td>User2</td>\n",
       "      <td>0 days 12:54:00</td>\n",
       "      <td>NaN</td>\n",
       "      <td>NaN</td>\n",
       "      <td>NaN</td>\n",
       "      <td>NaN</td>\n",
       "      <td>NaN</td>\n",
       "      <td>NaN</td>\n",
       "      <td>NaN</td>\n",
       "    </tr>\n",
       "  </tbody>\n",
       "</table>\n",
       "</div>"
      ],
      "text/plain": [
       "                                       MessageBody       Date2 UserName  \\\n",
       "13                Nah, I am too ugly for that. .    2017-06-02    User1   \n",
       "10                                    I am sad now  2017-05-30    User2   \n",
       "4                                    Hmmm... What?  2017-05-29    User1   \n",
       "9              Ow, I thought that you were single   2017-05-30    User2   \n",
       "3    I want to say something important about us...  2017-05-29    User2   \n",
       "\n",
       "              Time Date1 UserPhone MediaType MediaLink QuotedMessage  \\\n",
       "13 0 days 11:55:00   NaN       NaN       NaN       NaN           NaN   \n",
       "10 0 days 11:52:00   NaN       NaN       NaN       NaN           NaN   \n",
       "4  0 days 13:22:00   NaN       NaN       NaN       NaN           NaN   \n",
       "9  0 days 11:52:00   NaN       NaN       NaN       NaN           NaN   \n",
       "3  0 days 12:54:00   NaN       NaN       NaN       NaN           NaN   \n",
       "\n",
       "   QuotedMessageDate QuotedMessageTime  \n",
       "13               NaN               NaN  \n",
       "10               NaN               NaN  \n",
       "4                NaN               NaN  \n",
       "9                NaN               NaN  \n",
       "3                NaN               NaN  "
      ]
     },
     "execution_count": 12,
     "metadata": {},
     "output_type": "execute_result"
    }
   ],
   "source": [
    "df_txt.sample(5)"
   ]
  },
  {
   "cell_type": "markdown",
   "metadata": {},
   "source": [
    "## 4. Save the df to .csv"
   ]
  },
  {
   "cell_type": "code",
   "execution_count": 13,
   "metadata": {},
   "outputs": [],
   "source": [
    "df_txt.to_csv(os.path.join(FOLDER_NAME,\"data.csv\"), sep=\";\")"
   ]
  },
  {
   "cell_type": "markdown",
   "metadata": {},
   "source": [
    "---------"
   ]
  }
 ],
 "metadata": {
  "kernelspec": {
   "display_name": "Python 3",
   "language": "python",
   "name": "python3"
  },
  "language_info": {
   "codemirror_mode": {
    "name": "ipython",
    "version": 3
   },
   "file_extension": ".py",
   "mimetype": "text/x-python",
   "name": "python",
   "nbconvert_exporter": "python",
   "pygments_lexer": "ipython3",
   "version": "3.7.3"
  }
 },
 "nbformat": 4,
 "nbformat_minor": 4
}
