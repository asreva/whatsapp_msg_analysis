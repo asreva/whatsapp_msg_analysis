{
 "cells": [
  {
   "cell_type": "markdown",
   "metadata": {},
   "source": [
    "# Create lists of stop words by mergining sources\n",
    "\n",
    "Implemented for french and english. Lists are saved as pickle.\n",
    "\n",
    "To open the files you can then use, for example:\n",
    "\n",
    "    import pickle\n",
    "    with open('stop_words_fusion_fr.pkl', 'rb') as f:\n",
    "        stop_words = pickle.load(f)"
   ]
  },
  {
   "cell_type": "markdown",
   "metadata": {},
   "source": [
    "## 0. Settings"
   ]
  },
  {
   "cell_type": "code",
   "execution_count": 1,
   "metadata": {},
   "outputs": [
    {
     "name": "stderr",
     "output_type": "stream",
     "text": [
      "[nltk_data] Downloading package stopwords to C:\\Users\\IvanDaniel\n",
      "[nltk_data]     Sievering\\AppData\\Roaming\\nltk_data...\n",
      "[nltk_data]   Package stopwords is already up-to-date!\n"
     ]
    }
   ],
   "source": [
    "# Import Libraries\n",
    "import nltk\n",
    "nltk.download('stopwords')\n",
    "import spacy.lang.fr \n",
    "import spacy.lang.en\n",
    "from stop_words import get_stop_words\n",
    "import gensim\n",
    "import pickle"
   ]
  },
  {
   "cell_type": "markdown",
   "metadata": {},
   "source": [
    "## 1. French"
   ]
  },
  {
   "cell_type": "code",
   "execution_count": 2,
   "metadata": {},
   "outputs": [],
   "source": [
    "# Create individual lists\n",
    "stop_nltk = nltk.corpus.stopwords.words('french')\n",
    "stop_spacy = spacy.lang.fr.STOP_WORDS\n",
    "stop_pip = get_stop_words('french')\n",
    "stop_gensin = set(nltk.corpus.stopwords.words('french'))\n",
    "# from https://github.com/cmchurch/nltk_french/blob/master/french-nltk.py\n",
    "stop_git = [\"Ap.\", \"Apr.\", \"GHz\", \"MHz\", \"USD\", \"a\", \"afin\", \"ah\", \"ai\", \"aie\", \"aient\", \"aies\", \"ait\", \"alors\", \"après\", \"as\", \"attendu\", \"au\", \"au-delà\", \"au-devant\", \"aucun\", \"aucune\", \"audit\", \"auprès\", \"auquel\", \"aura\", \"aurai\", \"auraient\", \"aurais\", \"aurait\", \"auras\", \"aurez\", \"auriez\", \"aurions\", \"aurons\", \"auront\", \"aussi\", \"autour\", \"autre\", \"autres\", \"autrui\", \"aux\", \"auxdites\", \"auxdits\", \"auxquelles\", \"auxquels\", \"avaient\", \"avais\", \"avait\", \"avant\", \"avec\", \"avez\", \"aviez\", \"avions\", \"avons\", \"ayant\", \"ayez\", \"ayons\", \"b\", \"bah\", \"banco\", \"ben\", \"bien\", \"bé\", \"c\", \"c'\", \"c'est\", \"c'était\", \"car\", \"ce\", \"ceci\", \"cela\", \"celle\", \"celle-ci\", \"celle-là\", \"celles\", \"celles-ci\", \"celles-là\", \"celui\", \"celui-ci\", \"celui-là\", \"celà\", \"cent\", \"cents\", \"cependant\", \"certain\", \"certaine\", \"certaines\", \"certains\", \"ces\", \"cet\", \"cette\", \"ceux\", \"ceux-ci\", \"ceux-là\", \"cf.\", \"cg\", \"cgr\", \"chacun\", \"chacune\", \"chaque\", \"chez\", \"ci\", \"cinq\", \"cinquante\", \"cinquante-cinq\", \"cinquante-deux\", \"cinquante-et-un\", \"cinquante-huit\", \"cinquante-neuf\", \"cinquante-quatre\", \"cinquante-sept\", \"cinquante-six\", \"cinquante-trois\", \"cl\", \"cm\", \"cm²\", \"comme\", \"contre\", \"d\", \"d'\", \"d'après\", \"d'un\", \"d'une\", \"dans\", \"de\", \"depuis\", \"derrière\", \"des\", \"desdites\", \"desdits\", \"desquelles\", \"desquels\", \"deux\", \"devant\", \"devers\", \"dg\", \"différentes\", \"différents\", \"divers\", \"diverses\", \"dix\", \"dix-huit\", \"dix-neuf\", \"dix-sept\", \"dl\", \"dm\", \"donc\", \"dont\", \"douze\", \"du\", \"dudit\", \"duquel\", \"durant\", \"dès\", \"déjà\", \"e\", \"eh\", \"elle\", \"elles\", \"en\", \"en-dehors\", \"encore\", \"enfin\", \"entre\", \"envers\", \"es\", \"est\", \"et\", \"eu\", \"eue\", \"eues\", \"euh\", \"eurent\", \"eus\", \"eusse\", \"eussent\", \"eusses\", \"eussiez\", \"eussions\", \"eut\", \"eux\", \"eûmes\", \"eût\", \"eûtes\", \"f\", \"fait\", \"fi\", \"flac\", \"fors\", \"furent\", \"fus\", \"fusse\", \"fussent\", \"fusses\", \"fussiez\", \"fussions\", \"fut\", \"fûmes\", \"fût\", \"fûtes\", \"g\", \"gr\", \"h\", \"ha\", \"han\", \"hein\", \"hem\", \"heu\", \"hg\", \"hl\", \"hm\", \"hm³\", \"holà\", \"hop\", \"hormis\", \"hors\", \"huit\", \"hum\", \"hé\", \"i\", \"ici\", \"il\", \"ils\", \"j\", \"j'\", \"j'ai\", \"j'avais\", \"j'étais\", \"jamais\", \"je\", \"jusqu'\", \"jusqu'au\", \"jusqu'aux\", \"jusqu'à\", \"jusque\", \"k\", \"kg\", \"km\", \"km²\", \"l\", \"l'\", \"l'autre\", \"l'on\", \"l'un\", \"l'une\", \"la\", \"laquelle\", \"le\", \"lequel\", \"les\", \"lesquelles\", \"lesquels\", \"leur\", \"leurs\", \"lez\", \"lors\", \"lorsqu'\", \"lorsque\", \"lui\", \"lès\", \"m\", \"m'\", \"ma\", \"maint\", \"mainte\", \"maintes\", \"maints\", \"mais\", \"malgré\", \"me\", \"mes\", \"mg\", \"mgr\", \"mil\", \"mille\", \"milliards\", \"millions\", \"ml\", \"mm\", \"mm²\", \"moi\", \"moins\", \"mon\", \"moyennant\", \"mt\", \"m²\", \"m³\", \"même\", \"mêmes\", \"n\", \"n'avait\", \"n'y\", \"ne\", \"neuf\", \"ni\", \"non\", \"nonante\", \"nonobstant\", \"nos\", \"notre\", \"nous\", \"nul\", \"nulle\", \"nº\", \"néanmoins\", \"o\", \"octante\", \"oh\", \"on\", \"ont\", \"onze\", \"or\", \"ou\", \"outre\", \"où\", \"p\", \"par\", \"par-delà\", \"parbleu\", \"parce\", \"parmi\", \"pas\", \"passé\", \"pendant\", \"personne\", \"peu\", \"plus\", \"plus_d'un\", \"plus_d'une\", \"plusieurs\", \"pour\", \"pourquoi\", \"pourtant\", \"pourvu\", \"près\", \"puisqu'\", \"puisque\", \"q\", \"qu\", \"qu'\", \"qu'elle\", \"qu'elles\", \"qu'il\", \"qu'ils\", \"qu'on\", \"quand\", \"quant\", \"quarante\", \"quarante-cinq\", \"quarante-deux\", \"quarante-et-un\", \"quarante-huit\", \"quarante-neuf\", \"quarante-quatre\", \"quarante-sept\", \"quarante-six\", \"quarante-trois\", \"quatorze\", \"quatre\", \"quatre-vingt\", \"quatre-vingt-cinq\", \"quatre-vingt-deux\", \"quatre-vingt-dix\", \"quatre-vingt-dix-huit\", \"quatre-vingt-dix-neuf\", \"quatre-vingt-dix-sept\", \"quatre-vingt-douze\", \"quatre-vingt-huit\", \"quatre-vingt-neuf\", \"quatre-vingt-onze\", \"quatre-vingt-quatorze\", \"quatre-vingt-quatre\", \"quatre-vingt-quinze\", \"quatre-vingt-seize\", \"quatre-vingt-sept\", \"quatre-vingt-six\", \"quatre-vingt-treize\", \"quatre-vingt-trois\", \"quatre-vingt-un\", \"quatre-vingt-une\", \"quatre-vingts\", \"que\", \"quel\", \"quelle\", \"quelles\", \"quelqu'\", \"quelqu'un\", \"quelqu'une\", \"quelque\", \"quelques\", \"quelques-unes\", \"quelques-uns\", \"quels\", \"qui\", \"quiconque\", \"quinze\", \"quoi\", \"quoiqu'\", \"quoique\", \"r\", \"revoici\", \"revoilà\", \"rien\", \"s\", \"s'\", \"sa\", \"sans\", \"sauf\", \"se\", \"seize\", \"selon\", \"sept\", \"septante\", \"sera\", \"serai\", \"seraient\", \"serais\", \"serait\", \"seras\", \"serez\", \"seriez\", \"serions\", \"serons\", \"seront\", \"ses\", \"si\", \"sinon\", \"six\", \"soi\", \"soient\", \"sois\", \"soit\", \"soixante\", \"soixante-cinq\", \"soixante-deux\", \"soixante-dix\", \"soixante-dix-huit\", \"soixante-dix-neuf\", \"soixante-dix-sept\", \"soixante-douze\", \"soixante-et-onze\", \"soixante-et-un\", \"soixante-et-une\", \"soixante-huit\", \"soixante-neuf\", \"soixante-quatorze\", \"soixante-quatre\", \"soixante-quinze\", \"soixante-seize\", \"soixante-sept\", \"soixante-six\", \"soixante-treize\", \"soixante-trois\", \"sommes\", \"son\", \"sont\", \"sous\", \"soyez\", \"soyons\", \"suis\", \"suite\", \"sur\", \"sus\", \"t\", \"t'\", \"ta\", \"tacatac\", \"tandis\", \"te\", \"tel\", \"telle\", \"telles\", \"tels\", \"tes\", \"toi\", \"ton\", \"toujours\", \"tous\", \"tout\", \"toute\", \"toutefois\", \"toutes\", \"treize\", \"trente\", \"trente-cinq\", \"trente-deux\", \"trente-et-un\", \"trente-huit\", \"trente-neuf\", \"trente-quatre\", \"trente-sept\", \"trente-six\", \"trente-trois\", \"trois\", \"très\", \"tu\", \"u\", \"un\", \"une\", \"unes\", \"uns\", \"v\", \"vers\", \"via\", \"vingt\", \"vingt-cinq\", \"vingt-deux\", \"vingt-huit\", \"vingt-neuf\", \"vingt-quatre\", \"vingt-sept\", \"vingt-six\", \"vingt-trois\", \"vis-à-vis\", \"voici\", \"voilà\", \"vos\", \"votre\", \"vous\", \"w\", \"x\", \"y\", \"z\", \"zéro\", \"à\", \"ç'\", \"ça\", \"ès\", \"étaient\", \"étais\", \"était\", \"étant\", \"étiez\", \"étions\", \"été\", \"étée\", \"étées\", \"étés\", \"êtes\", \"être\", \"ô\"]\n",
    "#from git https://github.com/WorldBrain/remove-stopwords/blob/master/lib/stopwords_fr.js\n",
    "stop_git_2 = [\"a\",\"abord\",\"absolument\",\"afin\",\"ah\",\"ai\",\"aie\",\"ailleurs\",\"ainsi\",\"ait\",\"allaient\",\"allo\",\"allons\",\n",
    "\"allô\",\"alors\",\"anterieur\",\"anterieure\",\"anterieures\",\"apres\",\"après\",\"as\",\"assez\",\"attendu\",\"au\",\"aucun\",\"aucune\",\n",
    "\"aujourd\",\"aujourd'hui\",\"aupres\",\"auquel\",\"aura\",\"auraient\",\"aurait\",\"auront\",\"aussi\",\"autre\",\"autrefois\",\"autrement\",\n",
    "\"autres\",\"autrui\",\"aux\",\"auxquelles\",\"auxquels\",\"avaient\",\"avais\",\"avait\",\"avant\",\"avec\",\"avoir\",\"avons\",\"ayant\",\"b\",\n",
    "\"bah\",\"bas\",\"basee\",\"bat\",\"beau\",\"beaucoup\",\"bien\",\"bigre\",\"boum\",\"bravo\",\"brrr\",\"c\",\"car\",\"ce\",\"ceci\",\"cela\",\"celle\",\n",
    "\"celle-ci\",\"celle-là\",\"celles\",\"celles-ci\",\"celles-là\",\"celui\",\"celui-ci\",\"celui-là\",\"cent\",\"cependant\",\"certain\",\n",
    "\"certaine\",\"certaines\",\"certains\",\"certes\",\"ces\",\"cet\",\"cette\",\"ceux\",\"ceux-ci\",\"ceux-là\",\"chacun\",\"chacune\",\"chaque\",\n",
    "\"cher\",\"chers\",\"chez\",\"chiche\",\"chut\",\"chère\",\"chères\",\"ci\",\"cinq\",\"cinquantaine\",\"cinquante\",\"cinquantième\",\"cinquième\",\n",
    "\"clac\",\"clic\",\"combien\",\"comme\",\"comment\",\"comparable\",\"comparables\",\"compris\",\"concernant\",\"contre\",\"couic\",\"crac\",\"d\",\n",
    "\"da\",\"dans\",\"de\",\"debout\",\"dedans\",\"dehors\",\"deja\",\"delà\",\"depuis\",\"dernier\",\"derniere\",\"derriere\",\"derrière\",\"des\",\n",
    "\"desormais\",\"desquelles\",\"desquels\",\"dessous\",\"dessus\",\"deux\",\"deuxième\",\"deuxièmement\",\"devant\",\"devers\",\"devra\",\n",
    "\"different\",\"differentes\",\"differents\",\"différent\",\"différente\",\"différentes\",\"différents\",\"dire\",\"directe\",\"directement\",\n",
    "\"dit\",\"dite\",\"dits\",\"divers\",\"diverse\",\"diverses\",\"dix\",\"dix-huit\",\"dix-neuf\",\"dix-sept\",\"dixième\",\"doit\",\"doivent\",\"donc\",\n",
    "\"dont\",\"douze\",\"douzième\",\"dring\",\"du\",\"duquel\",\"durant\",\"dès\",\"désormais\",\"e\",\"effet\",\"egale\",\"egalement\",\"egales\",\"eh\",\n",
    "\"elle\",\"elle-même\",\"elles\",\"elles-mêmes\",\"en\",\"encore\",\"enfin\",\"entre\",\"envers\",\"environ\",\"es\",\"est\",\"et\",\"etant\",\"etc\",\n",
    "\"etre\",\"eu\",\"euh\",\"eux\",\"eux-mêmes\",\"exactement\",\"excepté\",\"extenso\",\"exterieur\",\"f\",\"fais\",\"faisaient\",\"faisant\",\"fait\",\n",
    "\"façon\",\"feront\",\"fi\",\"flac\",\"floc\",\"font\",\"g\",\"gens\",\"h\",\"ha\",\"hein\",\"hem\",\"hep\",\"hi\",\"ho\",\"holà\",\"hop\",\"hormis\",\"hors\",\n",
    "\"hou\",\"houp\",\"hue\",\"hui\",\"huit\",\"huitième\",\"hum\",\"hurrah\",\"hé\",\"hélas\",\"i\",\"il\",\"ils\",\"importe\",\"j\",\"je\",\"jusqu\",\"jusque\",\n",
    "\"juste\",\"k\",\"l\",\"la\",\"laisser\",\"laquelle\",\"las\",\"le\",\"lequel\",\"les\",\"lesquelles\",\"lesquels\",\"leur\",\"leurs\",\"longtemps\",\n",
    "\"lors\",\"lorsque\",\"lui\",\"lui-meme\",\"lui-même\",\"là\",\"lès\",\"m\",\"ma\",\"maint\",\"maintenant\",\"mais\",\"malgre\",\"malgré\",\"maximale\",\n",
    "\"me\",\"meme\",\"memes\",\"merci\",\"mes\",\"mien\",\"mienne\",\"miennes\",\"miens\",\"mille\",\"mince\",\"minimale\",\"moi\",\"moi-meme\",\"moi-même\",\n",
    "\"moindres\",\"moins\",\"mon\",\"moyennant\",\"multiple\",\"multiples\",\"même\",\"mêmes\",\"n\",\"na\",\"naturel\",\"naturelle\",\"naturelles\",\"ne\",\n",
    "\"neanmoins\",\"necessaire\",\"necessairement\",\"neuf\",\"neuvième\",\"ni\",\"nombreuses\",\"nombreux\",\"non\",\"nos\",\"notamment\",\"notre\",\n",
    "\"nous\",\"nous-mêmes\",\"nouveau\",\"nul\",\"néanmoins\",\"nôtre\",\"nôtres\",\"o\",\"oh\",\"ohé\",\"ollé\",\"olé\",\"on\",\"ont\",\"onze\",\"onzième\",\n",
    "\"ore\",\"ou\",\"ouf\",\"ouias\",\"oust\",\"ouste\",\"outre\",\"ouvert\",\"ouverte\",\"ouverts\",\"o|\",\"où\",\"p\",\"paf\",\"pan\",\"par\",\"parce\",\n",
    "\"parfois\",\"parle\",\"parlent\",\"parler\",\"parmi\",\"parseme\",\"partant\",\"particulier\",\"particulière\",\"particulièrement\",\"pas\",\n",
    "\"passé\",\"pendant\",\"pense\",\"permet\",\"personne\",\"peu\",\"peut\",\"peuvent\",\"peux\",\"pff\",\"pfft\",\"pfut\",\"pif\",\"pire\",\"plein\",\n",
    "\"plouf\",\"plus\",\"plusieurs\",\"plutôt\",\"possessif\",\"possessifs\",\"possible\",\"possibles\",\"pouah\",\"pour\",\"pourquoi\",\"pourrais\",\n",
    "\"pourrait\",\"pouvait\",\"prealable\",\"precisement\",\"premier\",\"première\",\"premièrement\",\"pres\",\"probable\",\"probante\",\n",
    "\"procedant\",\"proche\",\"près\",\"psitt\",\"pu\",\"puis\",\"puisque\",\"pur\",\"pure\",\"q\",\"qu\",\"quand\",\"quant\",\"quant-à-soi\",\"quanta\",\n",
    "\"quarante\",\"quatorze\",\"quatre\",\"quatre-vingt\",\"quatrième\",\"quatrièmement\",\"que\",\"quel\",\"quelconque\",\"quelle\",\"quelles\",\n",
    "\"quelqu'un\",\"quelque\",\"quelques\",\"quels\",\"qui\",\"quiconque\",\"quinze\",\"quoi\",\"quoique\",\"r\",\"rare\",\"rarement\",\"rares\",\n",
    "\"relative\",\"relativement\",\"remarquable\",\"rend\",\"rendre\",\"restant\",\"reste\",\"restent\",\"restrictif\",\"retour\",\"revoici\",\n",
    "\"revoilà\",\"rien\",\"s\",\"sa\",\"sacrebleu\",\"sait\",\"sans\",\"sapristi\",\"sauf\",\"se\",\"sein\",\"seize\",\"selon\",\"semblable\",\"semblaient\",\n",
    "\"semble\",\"semblent\",\"sent\",\"sept\",\"septième\",\"sera\",\"seraient\",\"serait\",\"seront\",\"ses\",\"seul\",\"seule\",\"seulement\",\"si\",\n",
    "\"sien\",\"sienne\",\"siennes\",\"siens\",\"sinon\",\"six\",\"sixième\",\"soi\",\"soi-même\",\"soit\",\"soixante\",\"son\",\"sont\",\"sous\",\"souvent\",\n",
    "\"specifique\",\"specifiques\",\"speculatif\",\"stop\",\"strictement\",\"subtiles\",\"suffisant\",\"suffisante\",\"suffit\",\"suis\",\"suit\",\n",
    "\"suivant\",\"suivante\",\"suivantes\",\"suivants\",\"suivre\",\"superpose\",\"sur\",\"surtout\",\"t\",\"ta\",\"tac\",\"tant\",\"tardive\",\"te\",\n",
    "\"tel\",\"telle\",\"tellement\",\"telles\",\"tels\",\"tenant\",\"tend\",\"tenir\",\"tente\",\"tes\",\"tic\",\"tien\",\"tienne\",\"tiennes\",\"tiens\",\n",
    "\"toc\",\"toi\",\"toi-même\",\"ton\",\"touchant\",\"toujours\",\"tous\",\"tout\",\"toute\",\"toutefois\",\"toutes\",\"treize\",\"trente\",\"tres\",\n",
    "\"trois\",\"troisième\",\"troisièmement\",\"trop\",\"très\",\"tsoin\",\"tsouin\",\"tu\",\"té\",\"u\",\"un\",\"une\",\"unes\",\"uniformement\",\"unique\",\n",
    "\"uniques\",\"uns\",\"v\",\"va\",\"vais\",\"vas\",\"vers\",\"via\",\"vif\",\"vifs\",\"vingt\",\"vivat\",\"vive\",\"vives\",\"vlan\",\"voici\",\"voilà\",\n",
    "\"vont\",\"vos\",\"votre\",\"vous\",\"vous-mêmes\",\"vu\",\"vé\",\"vôtre\",\"vôtres\",\"w\",\"x\",\"y\",\"z\",\"zut\",\"à\",\"â\",\"ça\",\"ès\",\"étaient\",\n",
    "\"étais\",\"était\",\"étant\",\"été\",\"être\",\"ô\"]\n",
    "# from https://www.ranks.nl/stopwords/french\n",
    "stop_rank = ['alors','au','aucuns','aussi','autre','avant','avec','avoir','bon','car','ce','cela','ces','ceux','chaque','ci','comme',\n",
    "'comment','dans','des','du','dedans','dehors','depuis','devrait','doit','donc','dos','début','elle','elles','en','encore',\n",
    "'essai','est','et','eu','fait','faites','fois','font','hors','ici','il','ils','je','juste','la','le','les','leur','là','ma',\n",
    "'maintenant','mais','mes','mien','moins','mon','mot','même','ni','nommés','notre','nous','ou','où','par','parce','pas','peut',\n",
    "'peu','plupart','pour','pourquoi','quand','que','quel','quelle','quelles','quels','qui','sa','sans','ses','seulement','si',\n",
    "'sien','son','sont','sous','soyez','sujet','sur','ta','tandis','tellement','tels','tes','ton','tous','tout','trop','très',\n",
    "'tu','voient','vont','votre','vous','vu','ça','étaient','état','étions','été','être']\n",
    "\n",
    "# Merge them\n",
    "stop = list(stop_spacy) + list(set(stop_nltk) - set(stop_spacy))\n",
    "stop = list(stop) + list(set(stop_pip) - set(stop))\n",
    "stop = list(stop) + list(set(stop_gensin) - set(stop))\n",
    "stop = list(stop) + list(set(stop_git) - set(stop))\n",
    "stop = list(stop) + list(set(stop_git_2) - set(stop))\n",
    "stop = list(stop) + list(set(stop_rank) - set(stop))"
   ]
  },
  {
   "cell_type": "code",
   "execution_count": 3,
   "metadata": {},
   "outputs": [
    {
     "name": "stdout",
     "output_type": "stream",
     "text": [
      "935\n",
      "['ho', 'maint', 'ta', 'devra', 'quinze', 'chacune', 'celle-ci', 'sept', 'n’', 'hormis', 'peut', 'm’', 'près', 'certaine', 'ouverte', 'que', 'mes', 'tu', 'tien', 'vous-mêmes', 'toi', \"c'\", 'va', 'chacun', 'seules', 'déja', 'aussi', 'sait', 'lesquelles', 'cinq', 'afin', 'moi-meme', 'alors', 'ah', 'dits', 'nombreuses', 'merci', 'etaient', 'dix-huit', 'et', 'nul', 'je', 'quatrième', 'telle', \"t'\", 'celles-là', 'semblaient', 'ai', 'different', 'nous', 'diverse', 'tend', \"j'\", 'pourrais', 'ont', 'cinquante', 'dedans', 'da', 'chez', 'facon', 'certains', 'ha', 'tenir', 'font', 'tous', 'sera', 'nôtre', 'deuxième', 'anterieur', 'suffisante', 'toutes', 'basee', 'premièrement', 'toujours', 'tout', 'troisième', 'relative', 'pourquoi', 'ma', 'sur', 'tente', 'eux', 'elle', 'peux', 'malgré', 'effet', 'ès', 'stop', 'tiennes', 'ainsi', 'aupres', 'pour', 'ceci', 'en', 'cinquième', 'tellement', 'soi', 'l’', 'possible', 'dehors', 'nos', 'ton', 'si', 'memes', 'suit', 'dessous', 'ouvert', 'antérieur', 'lors', 'directe', 'votre', 'vas', 'egalement', 'selon', 'cent', 'allaient', 'puisque', 'via', 'reste', 'as', 'siens', 'soit', 'environ', 'seule', 'etre', 'elle-même', 'façon', 'té', \"qu'\", 'onze', 'celle-la', 't’', 'diverses', 'assez', 'semblent', 'rendre', 'mienne', 'hi', 'pendant', 'partant', 'leur', 'soixante', 'dont', 'fait', 'quatre-vingt', 'quiconque', 'celle-là', 'ayant', 'desquelles', 'etc', 'abord', 'etais', 'hou', 'sa', 'autre', 'dix-neuf', 'comment', 'se', 'moi-même', 'celles-la', 'rend', 'le', 'autres', 'ou', 'siennes', 'dix-sept', 'c’', 'moindres', 'restant', 'votres', 'anterieures', 'quatrièmement', 'qu’', 'troisièmement', 'faisaient', 'vos', 'sienne', 'néanmoins', 'enfin', 'i', 'parle', 'des', 'celui', 'spécifique', 'pourrait', 'y', 'préalable', 'nous-mêmes', 'etait', 'ni', 'jusque', 'avoir', 'differents', 'onzième', 'lui-même', 'j’', 'celle', 'quoique', 'hé', 'lui', 'doit', 'serait', 'celles-ci', 'avec', 'mais', 'differente', 'gens', 'hors', 'moi', 'étais', \"l'\", 'ils', 'laquelle', 'pas', 'cela', 'derrière', 'seraient', 'les', 'suffisant', 'il', 'celui-la', 'être', 'hui', 'lui-meme', 'dire', 'une', 'de', 'restent', 'trois', 'meme', 'première', 'anterieure', 'feront', 'mien', 'même', 'seront', 'delà', 'plutôt', 'exactement', 'retour', 'derriere', 'différentes', 'ceux', 'tiens', 'allons', 'ouverts', 'quant', 'parce', 'sont', 'precisement', 'son', 'hue', 'avais', 'devant', 'douzième', 'notre', 'notamment', 'douze', 'étaient', 'cinquantième', 'outre', 'dite', 'dessus', 'dès', 'tes', 'aura', 'pouvait', 'avait', 'auquel', 'celles', 'doivent', 'spécifiques', 'ouste', 'vingt', 'soi-meme', 'parlent', 'neuvième', 'du', 'debout', 'huitième', 'suffit', 'sous', 'procedant', 'eu', 'aurait', 'quel', 'plutot', 'quelconque', 'personne', 'aux', 'pres', 'sien', 'etant', 'lequel', 'quels', 'ce', 'suivre', 'peuvent', 'eh', 'septième', 'desormais', 'très', 'mille', 'parfois', 'avons', 'nôtres', 'concernant', 'revoila', 'aie', 'mêmes', 'peu', 'où', 'vôtre', \"d'\", 'soi-même', 'semble', 'divers', 'seul', 'voila', 'ça', 'quelle', 'elles-mêmes', 'deux', 'voici', 'pu', 'avaient', 'ceux-ci', 'dix', 'vé', \"s'\", 'cette', 'moins', 'encore', 'ne', 'dejà', 'elles-memes', 'auraient', 'suivantes', 'parler', 'souvent', 'quoi', 'pense', 'miennes', 'sinon', 'specifique', 'déjà', 'certain', 'ses', 'antérieures', \"m'\", 'specifiques', 'auxquelles', 'était', 'tres', 'certaines', 'différente', 'quarante', 'cependant', 'possibles', 'elle-meme', 'es', \"n'\", 'là', 'quatre', 'revoici', 'bas', 'me', 'autrement', 'elles', 'prealable', 'cinquantaine', 'vont', 'est', 'seulement', 'sixième', 'ces', 'uns', 'nouveau', 'faisant', 'a', 'treize', 'hem', 'auront', 'deja', 'nombreux', 'également', 'parmi', 'tant', 'laisser', 'puis', 'miens', 'vais', 'bat', 's’', 'd’', 'proche', 'chaque', 'vôtres', 'étant', 'suivant', 'précisement', 'toute', 'or', 'duquel', 'maintenant', 'lorsque', 'surtout', 'houp', 'quant-à-soi', 'â', 'celui-ci', 'voilà', 'unes', 'malgre', 'excepté', 'trente', 'ô', 'telles', 'te', 'semblable', 'directement', 'quelque', 'apres', 'seize', 'quatorze', 'cet', 'lesquels', 'sauf', 'à', 'dixième', 'jusqu', 'sent', 'fais', 'deuxièmement', 'ci', 'autrui', 'au', 'toi-même', 'eux-mêmes', 'mon', 'attendu', 'vous', 'suivante', 'suivants', 'désormais', 'na', 'premier', 'leurs', 'differentes', 'longtemps', 'quelles', 'différent', 'dans', 'tienne', 'tenant', 'lès', 'compris', 'quelques', 'hep', 'six', 'auxquels', 'différents', 'car', 'ceux-là', 'vu', 'celui-là', 'donc', 'antérieure', 'un', 'vers', 'après', 'desquels', 'permet', 'quand', 'devers', 'envers', 'ouias', 'plusieurs', 'dit', \"quelqu'un\", 'ait', 'touchant', 'avant', 'certes', 'qui', 'durant', 'seuls', 'par', 'depuis', 'neanmoins', 'o', 'suis', 'importe', 'tel', 'comme', 'huit', 'plus', 'juste', 'la', 'entre', 'combien', 'toi-meme', 'on', 'tels', 'sans', 'relativement', 'revoilà', 'd', 'fussiez', 'n', 'eusses', 't', 'avez', 'ayante', 'ayez', 'avions', 'seriez', 'fut', 'aurez', 'étées', 'aurais', 'fût', 'eûmes', 'eus', 'serais', 'été', 'eut', 'eussions', 'ayantes', 'l', 'serai', 'étants', 'étantes', 'j', 'eût', 'eûtes', 'aurai', 'serions', 'étions', 'soyons', 'fûmes', 'auras', 's', 'fusses', 'soient', 'soyez', 'étiez', 'fusse', 'eues', 'aies', 'aurons', 'c', 'êtes', 'fus', 'm', 'fûtes', 'étés', 'seras', 'sois', 'eusse', 'ayons', 'serons', 'serez', 'eue', 'eussiez', 'eussent', 'qu', 'sommes', 'eurent', 'aviez', 'auriez', 'fussions', 'furent', 'aurions', 'fussent', 'étée', 'aient', 'ayants', 'étante', 'voient', 'dos', 'devrait', 'force', 'début', 'devoir', 'tandis', 'plupart', 'voit', 'droite', 'trop', 'nommée', 'devrez', 'faire', 'mot', 'parole', 'devront', 'faisez', 'nom', 'valeur', 'état', 'nouveaux', 'aucun', 'fois', 'haut', 'dù', 'devrons', 'ici', 'sujet', 'devriez', 'nommé', 'devrions', 'dois', 'nommés', 'faites', 'vois', 'bon', 'personnes', 'hop', 'hm', 'soixante-dix-sept', 'cinquante-trois', 'bah', 'passé', 'fi', 'cg', 'km', 'cl', \"l'autre\", 'trente-deux', \"j'avais\", 'q', \"l'un\", 'soixante-et-une', 'z', 'v', 'quarante-cinq', 'soixante-neuf', 'desdites', 'auprès', 'auxdites', 'jamais', 'pourtant', 'm³', 'quarante-sept', \"j'étais\", 'toutefois', 'au-delà', \"l'une\", 'zéro', 'nonobstant', 'quatre-vingt-neuf', 'cinquante-sept', 'en-dehors', 'quatre-vingt-cinq', 'trente-quatre', 'holà', 'trente-cinq', 'soixante-douze', 'trente-neuf', \"plus_d'un\", \"d'une\", 'soixante-quatre', 'hein', 'Ap.', \"qu'il\", \"quelqu'\", 'dl', 'cinquante-deux', 'nonante', 'quarante-et-un', 'oh', 'quatre-vingt-quatorze', 'g', 'r', 'maintes', 'cinquante-six', 'e', 'contre', 'gr', \"n'y\", 'soixante-quinze', \"c'était\", 'quatre-vingt-une', 'soixante-dix-neuf', 'soixante-seize', 'soixante-et-un', 'soixante-cinq', 'heu', 'lez', 'fors', 'quarante-huit', 'm²', 'vingt-six', 'hl', 'nulle', 'par-delà', 'vingt-trois', 'quatre-vingt-trois', \"jusqu'aux\", 'soixante-treize', 'aucune', 'maints', 'soixante-sept', 'w', 'quarante-six', 'cinquante-neuf', 'octante', 'f', 'vingt-deux', \"qu'on\", 'audit', \"plus_d'une\", 'ben', 'GHz', 'quarante-deux', 'cinquante-et-un', 'b', \"jusqu'à\", 'soixante-trois', 'mm²', 'quarante-neuf', \"l'on\", 'cinquante-quatre', 'quatre-vingt-deux', 'quatre-vingt-seize', 'vingt-sept', 'soixante-et-onze', 'celà', 'cm', 'kg', 'quatre-vingt-huit', 'Apr.', 'quatre-vingt-treize', 'x', 'quatre-vingt-dix-neuf', 'quarante-quatre', 'vis-à-vis', 'soixante-deux', 'parbleu', 'millions', 'suite', 'trente-sept', 'nº', \"n'avait\", 'soixante-dix-huit', 'quatre-vingt-douze', 'soixante-huit', 'sus', \"quoiqu'\", 'mil', \"j'ai\", 'dm', \"qu'elles\", 'quatre-vingt-un', 'flac', 'quatre-vingt-sept', 'non', 'trente-six', \"d'après\", 'mainte', 'dudit', 'soixante-six', 'bien', 'quarante-trois', 'quatre-vingt-dix-huit', 'USD', \"puisqu'\", 'mgr', 'pourvu', 'vingt-neuf', 'han', 'milliards', 'soixante-quatorze', 'vingt-quatre', 'k', 'banco', 'desdits', \"qu'ils\", 'septante', 'autour', 'cf.', \"jusqu'au\", 'p', 'euh', 'tacatac', 'rien', 'cents', 'cm²', 'quatre-vingt-dix', 'mm', \"lorsqu'\", \"qu'elle\", 'quelques-unes', 'cinquante-huit', 'ml', \"ç'\", \"quelqu'une\", 'vingt-cinq', 'neuf', 'mg', 'quelques-uns', 'hg', 'hm³', 'moyennant', 'quatre-vingt-quatre', 'quatre-vingt-dix-sept', 'quatre-vingt-six', \"d'un\", 'soixante-dix', 'cgr', 'u', 'bé', 'quatre-vingt-quinze', 'quatre-vingt-onze', 'quatre-vingts', 'hum', 'h', 'trente-huit', 'cinquante-cinq', 'MHz', 'auxdits', 'trente-et-un', 'mt', 'dg', 'km²', 'trente-trois', \"jusqu'\", 'vingt-huit', \"c'est\", 'au-devant', 'minimale', 'extenso', 'tsoin', 'pif', 'naturel', 'clic', 'pff', 'couic', 'chères', 'comparable', 'absolument', 'chère', 'ouf', 'boum', \"aujourd'hui\", 'olé', 'allo', 'pur', 'pire', 'oust', 'vifs', 'speculatif', 'naturelles', 'tac', 'pure', 'possessifs', 'subtiles', 'pouah', 'quanta', 'particulièrement', 'necessaire', 'ore', 'strictement', 'vivat', 'restrictif', 'dernier', 'necessairement', 'dring', 'sein', 'tsouin', 'vif', 'egales', 'aujourd', 'autrefois', 'ailleurs', 'cher', 'bigre', 'brrr', 'paf', 'pan', 'crac', 'las', 'probable', 'zut', 'mince', 'allô', 'ollé', 'naturelle', 'vive', 'hurrah', 'rarement', 'plouf', 'chers', 'tardive', 'clac', 'exterieur', 'pfut', 'egale', 'particulier', 'o|', 'pfft', 'sacrebleu', 'bravo', 'psitt', 'tic', 'particulière', 'uniformement', 'derniere', 'remarquable', 'vives', 'rares', 'toc', 'hélas', 'unique', 'probante', 'chiche', 'vlan', 'chut', 'multiples', 'sapristi', 'comparables', 'parseme', 'beau', 'ohé', 'multiple', 'superpose', 'beaucoup', 'possessif', 'floc', 'uniques', 'rare', 'maximale', 'plein', 'aucuns', 'essai']\n"
     ]
    }
   ],
   "source": [
    "print(len(stop))\n",
    "print(stop)"
   ]
  },
  {
   "cell_type": "code",
   "execution_count": 4,
   "metadata": {},
   "outputs": [],
   "source": [
    "# Save the list as pickle\n",
    "with open('stop_words_fusion_fr.pkl', 'wb') as f:\n",
    "    pickle.dump(stop, f)"
   ]
  },
  {
   "cell_type": "markdown",
   "metadata": {},
   "source": [
    "## 2. English"
   ]
  },
  {
   "cell_type": "code",
   "execution_count": 5,
   "metadata": {
    "scrolled": true
   },
   "outputs": [],
   "source": [
    "# Create individual lists\n",
    "stop_nltk = nltk.corpus.stopwords.words('english')\n",
    "stop_spacy = spacy.lang.en.STOP_WORDS\n",
    "stop_pip = get_stop_words('english')\n",
    "stop_gensin = set(nltk.corpus.stopwords.words('english'))\n",
    "\n",
    "# Merge them\n",
    "stop = list(stop_spacy) + list(set(stop_nltk) - set(stop_spacy))\n",
    "stop = list(stop) + list(set(stop_pip) - set(stop))\n",
    "stop = list(stop) + list(set(stop_gensin) - set(stop))"
   ]
  },
  {
   "cell_type": "code",
   "execution_count": 6,
   "metadata": {},
   "outputs": [
    {
     "name": "stdout",
     "output_type": "stream",
     "text": [
      "411\n",
      "['thence', 'five', 'anyone', 'most', 'somehow', 'own', 'those', 'every', 'around', 'other', 'side', 'nobody', 'across', 'either', 'former', 'both', 'some', 'thereafter', 'such', 'really', 'except', 'an', 'though', 'just', 'yourselves', 'do', 'herself', 'be', 'any', 'my', 'another', 'been', 'doing', 'sixty', \"'ve\", 'almost', 'behind', 'of', 'against', 'although', 'enough', 'seem', 'also', 'among', '’s', 'him', 're', 'not', '’re', 'therein', 'this', '‘s', 'toward', 'into', 'two', '’ll', 'through', 'quite', 'take', 'part', 'full', '’m', 'become', 'our', 'herein', 'nine', 'and', 'might', 'always', 'under', 'myself', 'perhaps', 'whatever', 'until', 'onto', 'elsewhere', 'whence', 'mostly', 'ourselves', 'being', 'regarding', 'n’t', 'via', 'however', 'as', 'beforehand', 'everything', 'further', 'you', 'much', 'per', 'below', 'have', 'everywhere', 'therefore', 'over', 'meanwhile', 'fifteen', 'yourself', 'fifty', 'because', \"'re\", 'latter', 'hereafter', 'where', 'keep', 'how', 'front', 'did', 'from', 'afterwards', 'with', 'must', 'moreover', 'see', 'i', 'off', 'three', '‘ll', 'already', 'none', 'put', 'empty', 'becomes', 'whereafter', 'wherein', 'between', 'many', '‘ve', 'others', 'again', 'few', 'show', 'the', 'amongst', 'anywhere', 'sometimes', 'least', 'whether', 'well', 'it', 'since', 'same', 'together', 'will', 'go', 'without', 'are', 'using', 'these', 'becoming', \"'d\", 'about', 'once', 'hence', 'noone', 'can', 'top', 'several', 'does', 'get', 'himself', 'we', 'next', 'she', 'whereas', 'them', 'eight', 'hundred', 'he', 'after', 'while', 'otherwise', 'am', 'up', 'which', 'whither', 'forty', 'ten', 'thereby', 'themselves', 'in', 'your', 'done', 'should', 'seeming', 'sometime', 'us', 'may', 'never', 'back', 'throughout', 'what', 'whoever', 'that', 'could', 'only', 'seems', 'along', 'very', 'more', 'when', \"'s\", 'was', 'were', 'anyway', 'yours', 'n‘t', 'seemed', 'indeed', 'somewhere', 'beside', 'serious', 'than', 'due', 'each', \"n't\", 'ca', 'name', 'besides', 'at', 'before', 'give', 'namely', 'during', 'twelve', 'last', 'whom', 'everyone', 'whose', 'is', 'then', 'me', 'nothing', 'move', 'something', 'so', 'whenever', 'anyhow', 'a', 'first', 'eleven', 'still', 'ever', 'now', 'here', 'within', 'third', '’ve', 'became', 'ours', 'wherever', 'who', 'whereby', 'there', 'had', 'or', 'whole', 'but', 'too', 'formerly', 'amount', '’d', 'thru', 'beyond', 'for', 'hereby', 'thus', 'alone', 'four', 'cannot', 'rather', 'nowhere', 'one', 'towards', 'by', 'anything', 'neither', 'less', 'itself', 'even', 'her', 'please', \"'ll\", 'yet', 'mine', 'call', 'often', 'else', 'say', 'if', 'down', 'six', 'why', 'hers', 'bottom', 'no', 'thereupon', 'latterly', 'has', 'make', 'they', 'hereupon', 'all', 'their', 'nor', 'its', 'whereupon', 'out', '‘re', 'unless', 'various', 'someone', 'above', 'would', 'to', 'his', '‘d', 'used', 'nevertheless', 'made', '‘m', 'on', 'twenty', 'upon', \"'m\", 'd', 'couldn', 't', \"doesn't\", \"mightn't\", \"needn't\", \"don't\", \"didn't\", 'weren', 'haven', 'aren', \"it's\", \"isn't\", 'hadn', 'having', \"weren't\", \"won't\", 'shouldn', \"that'll\", 'y', 'don', 'wouldn', \"you'll\", 'mightn', \"hadn't\", \"you've\", \"shan't\", 'shan', 'ain', 's', \"you're\", 'll', 'o', 'didn', \"hasn't\", 'theirs', \"aren't\", 'hasn', \"shouldn't\", \"you'd\", 'doesn', 'm', 'needn', \"haven't\", \"she's\", \"mustn't\", \"couldn't\", \"wasn't\", 'wasn', 'mustn', \"should've\", 'won', \"wouldn't\", 'ma', 'isn', 've', \"where's\", \"when's\", \"how's\", \"he'll\", \"let's\", \"she'll\", \"she'd\", \"they're\", 'ought', \"we've\", \"i've\", \"i'm\", \"i'd\", \"who's\", \"why's\", \"i'll\", \"he'd\", \"we're\", \"can't\", \"they'll\", \"there's\", \"what's\", \"he's\", \"here's\", \"they'd\", \"we'd\", \"they've\", \"that's\", \"we'll\"]\n"
     ]
    }
   ],
   "source": [
    "print(len(stop))\n",
    "print(stop)"
   ]
  },
  {
   "cell_type": "code",
   "execution_count": 7,
   "metadata": {},
   "outputs": [],
   "source": [
    "# Save the list as pickle\n",
    "with open('stop_words_fusion_en.pkl', 'wb') as f:\n",
    "    pickle.dump(stop, f)"
   ]
  },
  {
   "cell_type": "markdown",
   "metadata": {},
   "source": [
    "---"
   ]
  }
 ],
 "metadata": {
  "kernelspec": {
   "display_name": "Python 3",
   "language": "python",
   "name": "python3"
  },
  "language_info": {
   "codemirror_mode": {
    "name": "ipython",
    "version": 3
   },
   "file_extension": ".py",
   "mimetype": "text/x-python",
   "name": "python",
   "nbconvert_exporter": "python",
   "pygments_lexer": "ipython3",
   "version": "3.7.3"
  }
 },
 "nbformat": 4,
 "nbformat_minor": 4
}
